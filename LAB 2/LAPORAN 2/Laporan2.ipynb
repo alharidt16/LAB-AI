{
 "cells": [
  {
   "cell_type": "code",
   "execution_count": 1,
   "metadata": {},
   "outputs": [
    {
     "name": "stdout",
     "output_type": "stream",
     "text": [
      "Filum hewan invertebrata yang terdeteksi adalah: filum Mollusca\n"
     ]
    }
   ],
   "source": [
    "\"\"\"\n",
    "Membuat sistem pakar untuk mendeteksi filum dari hewan invertebrata \n",
    "berdasarkan ciri-ciri morfologinya\n",
    "\"\"\"\n",
    "class SistemPakar_invertebrata:\n",
    "    def __init__(self): \n",
    "        self.pengetahuan_haridt_gilang = {\n",
    "        \"Protozoa\": [\"Bersel satu\",\"Sangat kecil\", \"Membelah diri\"],\n",
    "        \"Porifera\": [\"Bersel banyak\", \"Tubuh berpori\", \"Berkoloni\",\"Punya zat kapur\"],\n",
    "        \"Coelentrata\": [\"Tubuhnya kantung berongga\",\"Hidup di air laut\",\"Memiliki zat racun\"],\n",
    "        \"Vermes\": [\"Kecil\",\"Tubuh memanjang\",\"Tubuh lunak\",\"Tidak berongga\",\"Tidak punya kaki\",\"Tubuh simetris bilateral\"],\n",
    "        \"Mollusca\": [\"Tubuh lunak\",\"Tubuh dilindungi cangkang\",\"Tidak berbuku-buku\",\"Berlendir\"],\n",
    "        \"Arthropoda\": [\"Kaki beruas\",\"Tubuh simetris bilateral\",\"Mata majemuk\",\"Dapat dibedakan kepala dan perut\",\"Bernafas dengan trakea\"],\n",
    "        \"Echinodermata\": [\"Hidup di air\",\"Kulit berduri\",\"Tubuh simetris radial\",\"Gigi catut\",\"Kaki ambulakral\", \"Kepala tidak jelas\"]\n",
    "        }\n",
    "    def deteksi_invertebrata(self, ciri2):\n",
    "        for hewan, morfologi in self.pengetahuan_haridt_gilang.items():\n",
    "            if all(ciri2 in morfologi for ciri2 in ciri2):\n",
    "                return hewan\n",
    "        return \"Filum hewan tidak dikenali\"   \n",
    "\n",
    "# Penggunakan sistem pakar berdasarkan ciri-ciri morfologi\n",
    "sistem = SistemPakar_invertebrata()\n",
    "morfologi = [\"Tubuh dilindungi cangkang\",\"Berlendir\"] #contoh cirinya\n",
    "hasil_deteksi = sistem.deteksi_invertebrata(morfologi)\n",
    "print(\"Filum hewan invertebrata yang terdeteksi adalah: filum\",\n",
    "     hasil_deteksi) "
   ]
  }
 ],
 "metadata": {
  "kernelspec": {
   "display_name": "Python 3",
   "language": "python",
   "name": "python3"
  },
  "language_info": {
   "codemirror_mode": {
    "name": "ipython",
    "version": 3
   },
   "file_extension": ".py",
   "mimetype": "text/x-python",
   "name": "python",
   "nbconvert_exporter": "python",
   "pygments_lexer": "ipython3",
   "version": "3.11.5"
  }
 },
 "nbformat": 4,
 "nbformat_minor": 2
}
