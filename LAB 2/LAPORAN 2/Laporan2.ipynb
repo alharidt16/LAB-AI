{
 "cells": [
  {
   "cell_type": "code",
   "execution_count": 4,
   "metadata": {},
   "outputs": [],
   "source": [
    "class SistemPakar:\n",
    "    def __init__(self):\n",
    "        self.pengetahuan_haridt = {\n",
    "        \"Protozoa\": [\"Bersel satu\",\"Sangat kecil\", \"Membelah diri\"],\n",
    "        \"Porifera\": [\"Bersel banyak\", \"Tubuh berpori\", \"Hidup berkoloni\",\"Punya zat kapur\"],\n",
    "        \"Coelentrata\": [\"Tubuhnya kantung berongga\",\"Hidup di air laut\",\"Memiliki zat racun\"],\n",
    "        \"Vermes\": [\"Kecil\",\"Tubuh memanjang\",\"Tubuh lunak\",\"Tidak berongga\",\"Tidak punya kaki\",\"Tubuh simetris bilateral\"],\n",
    "        \"Mollusca\": [\"Tubuh lunak\",\"Tubuh dilindungi cangkang\",\"Tidak berbuku-buku\",\"Berlendir\"],\n",
    "        \"Arthropoda\": [\"Kaki Beruas-ruas\",\"Tubuh simetris bilateral\",\"Mata majemuk\",\"Dapat dibedakan kepala dan perut\",\"Bernafas dengan trakea\"],\n",
    "        \"Echinodermata\": [\"Hidup di air\",\"Kulit berduri\",\"Tubuh simetris radial\",\"Gigi catut\",\"Kaki ambulakral\",\"Kepala tidak jelas\"]\n",
    "        }\n",
    "\n",
    "    def deteksi_invertebrata(self, ciri2):\n",
    "        for hewan, morfologi in self.pengetahuan_haridt.items():\n",
    "            if all(ciri2 in morfologi for ciri2 in ciri2):\n",
    "                return hewan\n",
    "        return \"hewan tidak dikenali\"   \n",
    "\n",
    " \n",
    "\n",
    " "
   ]
  },
  {
   "cell_type": "code",
   "execution_count": 7,
   "metadata": {},
   "outputs": [
    {
     "name": "stdout",
     "output_type": "stream",
     "text": [
      "Filum yang terdeteksi adalah: Echinodermata\n"
     ]
    }
   ],
   "source": [
    "# Contoh penggunaan\n",
    "sistem = SistemPakar()\n",
    "\n",
    "morfologi = [\"Hidup di air\"]\n",
    "hasil_deteksi = sistem.deteksi_invertebrata(morfologi)\n",
    "\n",
    "print(\"Filum yang terdeteksi adalah:\", hasil_deteksi)  "
   ]
  },
  {
   "cell_type": "code",
   "execution_count": 9,
   "metadata": {},
   "outputs": [
    {
     "name": "stdout",
     "output_type": "stream",
     "text": [
      "Benar,  Vermes  memiliki atribut  Kecil\n"
     ]
    }
   ],
   "source": [
    "class SistemPakar:\n",
    "    def __init__(self):\n",
    "        self.pengetahuan_haridt = {\n",
    "        \"Protozoa\": [\"Bersel satu\",\"Sangat kecil\", \"Membelah diri\"],\n",
    "        \"Porifera\": [\"Bersel banyak\", \"Tubuh berpori\", \"Hidup berkoloni\",\"Punya zat kapur\"],\n",
    "        \"Coelentrata\": [\"Tubuhnya kantung berongga\",\"Hidup di air laut\",\"Memiliki zat racun\"],\n",
    "        \"Vermes\": [\"Kecil\",\"Tubuh memanjang\",\"Tubuh lunak\",\"Tidak berongga\",\"Tidak punya kaki\",\"Tubuh simetris bilateral\"],\n",
    "        \"Mollusca\": [\"Tubuh lunak\",\"Tubuh dilindungi cangkang\",\"Tidak berbuku-buku\",\"Berlendir\"],\n",
    "        \"Arthropoda\": [\"Kaki Beruas-ruas\",\"Tubuh simetris bilateral\",\"Mata majemuk\",\"Dapat dibedakan kepala dan perut\",\"Bernafas dengan trakea\"],\n",
    "        \"Echinodermata\": [\"Hidung tampak\",\"Tubuh dilindungi plakoid\",\"Tidak berbuku-buku\",\"Hidup di a-gung laut\"]\n",
    "        }\n",
    "\n",
    "    def input_data(self):\n",
    "        group = input(\"Masukkan jenis serangga: \")\n",
    "        attribute = input(\"Masukkan atribut serangga: \")\n",
    "\n",
    "        if group in self.pengetahuan_haridt:\n",
    "            if attribute in self.pengetahuan_haridt[group]:\n",
    "                print(\"Benar, \", group, \" memiliki atribut \", attribute)\n",
    "            else:\n",
    "                print(\"Salah, \", group, \" tidak memiliki atribut \", attribute)\n",
    "        else:\n",
    "            print(\"Jenis serangga tidak dikenal\")\n",
    "\n",
    "if __name__ == \"__main__\":\n",
    "    sp = SistemPakar()\n",
    "    sp.input_data()"
   ]
  }
 ],
 "metadata": {
  "kernelspec": {
   "display_name": "Python 3",
   "language": "python",
   "name": "python3"
  },
  "language_info": {
   "codemirror_mode": {
    "name": "ipython",
    "version": 3
   },
   "file_extension": ".py",
   "mimetype": "text/x-python",
   "name": "python",
   "nbconvert_exporter": "python",
   "pygments_lexer": "ipython3",
   "version": "3.11.5"
  }
 },
 "nbformat": 4,
 "nbformat_minor": 2
}
