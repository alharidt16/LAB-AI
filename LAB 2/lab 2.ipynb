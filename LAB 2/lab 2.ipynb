{
 "cells": [
  {
   "cell_type": "code",
   "execution_count": 6,
   "metadata": {},
   "outputs": [
    {
     "name": "stdout",
     "output_type": "stream",
     "text": [
      "Hasil Diagnosis: flu\n"
     ]
    }
   ],
   "source": [
    "class SistemPakar:\n",
    "    def __init__(self):\n",
    "        self.pengetahuan = {\n",
    "        \"flu\": [\"demam\", \"hidung berlendir\", \"batuk\", \"sakit tenggorokan\"],\n",
    "        \"alergi\": [\"hidung gatal\", \"bersin\", \"gatal-gatal di mata\"]\n",
    "        }\n",
    "\n",
    "    def deteksi_penyakit(self, gejala):\n",
    "        for penyakit, gejala_penyakit in self.pengetahuan.items():\n",
    "            if all(gejala in gejala_penyakit for gejala in gejala):\n",
    "                return penyakit\n",
    "        return \"Penyakit tidak dikenali\"   \n",
    "\n",
    "# Contoh penggunaan\n",
    "sistem = SistemPakar()\n",
    "\n",
    "gejala_pengguna = [\"demam\", \"hidung berlendir\", \"batuk\"]\n",
    "hasil_diagnosis = sistem.deteksi_penyakit(gejala_pengguna)\n",
    "\n",
    "print(\"Hasil Diagnosis:\", hasil_diagnosis)   \n",
    "\n",
    " "
   ]
  },
  {
   "cell_type": "code",
   "execution_count": 7,
   "metadata": {},
   "outputs": [
    {
     "name": "stdout",
     "output_type": "stream",
     "text": [
      "Anda menderita penyakit: bronkitis\n"
     ]
    }
   ],
   "source": [
    "# Import library yang dibutuhkan\n",
    "import random\n",
    "\n",
    "# Inisialisasi variabel\n",
    "gejala = ['demam', 'batuk', 'pilek', 'sakit kepala', 'sesak napas']\n",
    "penyakit = ['flu', 'asma', 'bronkitis']\n",
    "\n",
    "# Fungsi untuk menentukan penyakit berdasarkan gejala\n",
    "def deteksi_penyakit(gejala):\n",
    "    if 'demam' in gejala and 'batuk' in gejala and 'pilek' in gejala:\n",
    "        return penyakit[0]\n",
    "    elif 'sesak napas' in gejala:\n",
    "        return penyakit[1]\n",
    "    else:\n",
    "        return penyakit[2]\n",
    "\n",
    "# Fungsi untuk menampilkan hasil deteksi\n",
    "def tampilkan_hasil(penyakit):\n",
    "    print('Anda menderita penyakit:', penyakit)\n",
    "\n",
    "# Main program\n",
    "if __name__ == '__main__':\n",
    "    # Input gejala dari user\n",
    "    input_gejala = []\n",
    "    for i in range(3):\n",
    "        input_gejala.append(input('Masukkan gejala yang Anda alami: '))\n",
    "    \n",
    "    # Deteksi penyakit berdasarkan gejala\n",
    "    hasil_deteksi = deteksi_penyakit(input_gejala)\n",
    "    \n",
    "    # Tampilkan hasil deteksi\n",
    "    tampilkan_hasil(hasil_deteksi)\n"
   ]
  }
 ],
 "metadata": {
  "kernelspec": {
   "display_name": "Python 3",
   "language": "python",
   "name": "python3"
  },
  "language_info": {
   "codemirror_mode": {
    "name": "ipython",
    "version": 3
   },
   "file_extension": ".py",
   "mimetype": "text/x-python",
   "name": "python",
   "nbconvert_exporter": "python",
   "pygments_lexer": "ipython3",
   "version": "3.11.5"
  }
 },
 "nbformat": 4,
 "nbformat_minor": 2
}
